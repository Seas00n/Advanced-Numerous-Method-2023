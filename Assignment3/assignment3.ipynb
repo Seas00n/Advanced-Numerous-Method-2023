{
 "cells": [
  {
   "attachments": {},
   "cell_type": "markdown",
   "metadata": {},
   "source": [
    "# Assignment3\n"
   ]
  },
  {
   "cell_type": "code",
   "execution_count": 1,
   "metadata": {},
   "outputs": [
    {
     "ename": "TypeError",
     "evalue": "_request_autoscale_view() takes from 1 to 3 positional arguments but 4 were given",
     "output_type": "error",
     "traceback": [
      "\u001b[1;31m---------------------------------------------------------------------------\u001b[0m",
      "\u001b[1;31mTypeError\u001b[0m                                 Traceback (most recent call last)",
      "Cell \u001b[1;32mIn[1], line 6\u001b[0m\n\u001b[0;32m      4\u001b[0m fig \u001b[39m=\u001b[39m plt\u001b[39m.\u001b[39mfigure(figsize\u001b[39m=\u001b[39m(\u001b[39m8\u001b[39m,\u001b[39m6\u001b[39m),dpi\u001b[39m=\u001b[39m\u001b[39m80\u001b[39m)\n\u001b[0;32m      5\u001b[0m ax \u001b[39m=\u001b[39m fig\u001b[39m.\u001b[39madd_subplot(\u001b[39m1\u001b[39m,\u001b[39m1\u001b[39m,\u001b[39m1\u001b[39m)\n\u001b[1;32m----> 6\u001b[0m arrowline(ax,np\u001b[39m.\u001b[39;49marray([\u001b[39m1\u001b[39;49m,\u001b[39m1000\u001b[39;49m]),np\u001b[39m.\u001b[39;49marray([\u001b[39m10\u001b[39;49m,\u001b[39m100\u001b[39;49m]),cosys\u001b[39m=\u001b[39;49m\u001b[39m'\u001b[39;49m\u001b[39mloglog\u001b[39;49m\u001b[39m'\u001b[39;49m)\n\u001b[0;32m      7\u001b[0m arrowline(ax,np\u001b[39m.\u001b[39marray([\u001b[39m2\u001b[39m,\u001b[39m1000\u001b[39m]),np\u001b[39m.\u001b[39marray([\u001b[39m10\u001b[39m,\u001b[39m1000\u001b[39m]),cosys\u001b[39m=\u001b[39m\u001b[39m'\u001b[39m\u001b[39mloglog\u001b[39m\u001b[39m'\u001b[39m)\n",
      "File \u001b[1;32md:\\Class\\Advanced-Numerous-Method-2023\\Assignment3\\arrowline.py:103\u001b[0m, in \u001b[0;36marrowline.__init__\u001b[1;34m(self, ax, x, y, cosys, arrow_size, style, arrow_angle, d_frac, color, arrow_style, interval, **kw)\u001b[0m\n\u001b[0;32m    101\u001b[0m     \u001b[39mself\u001b[39m\u001b[39m.\u001b[39mhandle\u001b[39m=\u001b[39max\u001b[39m.\u001b[39mplot(x,y,color\u001b[39m=\u001b[39mcolor,\u001b[39m*\u001b[39m\u001b[39m*\u001b[39mkw)[\u001b[39m0\u001b[39m]\n\u001b[0;32m    102\u001b[0m \u001b[39melif\u001b[39;00m cosys\u001b[39m==\u001b[39m\u001b[39m'\u001b[39m\u001b[39mloglog\u001b[39m\u001b[39m'\u001b[39m:\n\u001b[1;32m--> 103\u001b[0m     \u001b[39mself\u001b[39m\u001b[39m.\u001b[39mhandle\u001b[39m=\u001b[39max\u001b[39m.\u001b[39;49mloglog(x,y,color\u001b[39m=\u001b[39;49mcolor,\u001b[39m*\u001b[39;49m\u001b[39m*\u001b[39;49mkw)[\u001b[39m0\u001b[39m]\n\u001b[0;32m    105\u001b[0m x,y,l\u001b[39m=\u001b[39m\u001b[39mlist\u001b[39m(x),\u001b[39mlist\u001b[39m(y),\u001b[39mlen\u001b[39m(x)\n\u001b[0;32m    106\u001b[0m kw\u001b[39m=\u001b[39m{\u001b[39m'\u001b[39m\u001b[39mangle\u001b[39m\u001b[39m'\u001b[39m:arrow_angle,\u001b[39m'\u001b[39m\u001b[39md_frac\u001b[39m\u001b[39m'\u001b[39m:d_frac,\u001b[39m'\u001b[39m\u001b[39mcolor\u001b[39m\u001b[39m'\u001b[39m:color,\u001b[39m'\u001b[39m\u001b[39mstyle\u001b[39m\u001b[39m'\u001b[39m:arrow_style}\n",
      "File \u001b[1;32md:\\Programs\\Python\\Python38\\lib\\site-packages\\matplotlib\\axes\\_axes.py:1829\u001b[0m, in \u001b[0;36mAxes.loglog\u001b[1;34m(self, *args, **kwargs)\u001b[0m\n\u001b[0;32m   1825\u001b[0m dy \u001b[39m=\u001b[39m {k: v \u001b[39mfor\u001b[39;00m k, v \u001b[39min\u001b[39;00m kwargs\u001b[39m.\u001b[39mitems()\n\u001b[0;32m   1826\u001b[0m       \u001b[39mif\u001b[39;00m k \u001b[39min\u001b[39;00m [\u001b[39m'\u001b[39m\u001b[39mbase\u001b[39m\u001b[39m'\u001b[39m, \u001b[39m'\u001b[39m\u001b[39msubs\u001b[39m\u001b[39m'\u001b[39m, \u001b[39m'\u001b[39m\u001b[39mnonpositive\u001b[39m\u001b[39m'\u001b[39m,\n\u001b[0;32m   1827\u001b[0m                \u001b[39m'\u001b[39m\u001b[39mbasey\u001b[39m\u001b[39m'\u001b[39m, \u001b[39m'\u001b[39m\u001b[39msubsy\u001b[39m\u001b[39m'\u001b[39m, \u001b[39m'\u001b[39m\u001b[39mnonposy\u001b[39m\u001b[39m'\u001b[39m]}\n\u001b[0;32m   1828\u001b[0m \u001b[39mself\u001b[39m\u001b[39m.\u001b[39mset_yscale(\u001b[39m'\u001b[39m\u001b[39mlog\u001b[39m\u001b[39m'\u001b[39m, \u001b[39m*\u001b[39m\u001b[39m*\u001b[39mdy)\n\u001b[1;32m-> 1829\u001b[0m \u001b[39mreturn\u001b[39;00m \u001b[39mself\u001b[39;49m\u001b[39m.\u001b[39;49mplot(\n\u001b[0;32m   1830\u001b[0m     \u001b[39m*\u001b[39;49margs, \u001b[39m*\u001b[39;49m\u001b[39m*\u001b[39;49m{k: v \u001b[39mfor\u001b[39;49;00m k, v \u001b[39min\u001b[39;49;00m kwargs\u001b[39m.\u001b[39;49mitems() \u001b[39mif\u001b[39;49;00m k \u001b[39mnot\u001b[39;49;00m \u001b[39min\u001b[39;49;00m {\u001b[39m*\u001b[39;49mdx, \u001b[39m*\u001b[39;49mdy}})\n",
      "File \u001b[1;32md:\\Programs\\Python\\Python38\\lib\\site-packages\\matplotlib\\axes\\_axes.py:1692\u001b[0m, in \u001b[0;36mAxes.plot\u001b[1;34m(self, scalex, scaley, data, *args, **kwargs)\u001b[0m\n\u001b[0;32m   1690\u001b[0m     \u001b[39mself\u001b[39m\u001b[39m.\u001b[39madd_line(line)\n\u001b[0;32m   1691\u001b[0m \u001b[39mif\u001b[39;00m scalex:\n\u001b[1;32m-> 1692\u001b[0m     \u001b[39mself\u001b[39;49m\u001b[39m.\u001b[39;49m_request_autoscale_view(\u001b[39m\"\u001b[39;49m\u001b[39mx\u001b[39;49m\u001b[39m\"\u001b[39;49m)\n\u001b[0;32m   1693\u001b[0m \u001b[39mif\u001b[39;00m scaley:\n\u001b[0;32m   1694\u001b[0m     \u001b[39mself\u001b[39m\u001b[39m.\u001b[39m_request_autoscale_view(\u001b[39m\"\u001b[39m\u001b[39my\u001b[39m\u001b[39m\"\u001b[39m)\n",
      "File \u001b[1;32md:\\Class\\Advanced-Numerous-Method-2023\\Assignment3\\arrowline.py:181\u001b[0m, in \u001b[0;36marrowline.set_ax.<locals>.new_request_autoscale_view\u001b[1;34m(self, tight, scalex, scaley)\u001b[0m\n\u001b[0;32m    180\u001b[0m \u001b[39mdef\u001b[39;00m \u001b[39mnew_request_autoscale_view\u001b[39m(\u001b[39mself\u001b[39m,tight\u001b[39m=\u001b[39m\u001b[39mNone\u001b[39;00m, scalex\u001b[39m=\u001b[39m\u001b[39mTrue\u001b[39;00m, scaley\u001b[39m=\u001b[39m\u001b[39mTrue\u001b[39;00m):\n\u001b[1;32m--> 181\u001b[0m     args\u001b[39m=\u001b[39m\u001b[39mself\u001b[39;49m\u001b[39m.\u001b[39;49m_request_autoscale_view1(tight,scalex,scaley)\n\u001b[0;32m    182\u001b[0m     \u001b[39mself\u001b[39m\u001b[39m.\u001b[39mcheck_xylim()\n\u001b[0;32m    183\u001b[0m     \u001b[39mreturn\u001b[39;00m args\n",
      "\u001b[1;31mTypeError\u001b[0m: _request_autoscale_view() takes from 1 to 3 positional arguments but 4 were given"
     ]
    },
    {
     "data": {
      "image/png": "[encoded data removed]",
      "text/plain": [
       "<Figure size 640x480 with 1 Axes>"
      ]
     },
     "metadata": {},
     "output_type": "display_data"
    }
   ],
   "source": [
    "import numpy as np\n",
    "import matplotlib.pyplot as plt\n",
    "from arrowline import *\n",
    "fig = plt.figure(figsize=(8,6),dpi=80)\n",
    "ax = fig.add_subplot(1,1,1)\n",
    "arrowline(ax,np.array([1,1000]),np.array([10,100]),cosys='loglog')\n",
    "arrowline(ax,np.array([2,1000]),np.array([10,1000]),cosys='loglog')\n"
   ]
  },
  {
   "attachments": {},
   "cell_type": "markdown",
   "metadata": {},
   "source": [
    "## Q1\n",
    "Apprpximate the fixed points of each function. The Answer should be accurate to 12 decimal places."
   ]
  },
  {
   "cell_type": "code",
   "execution_count": null,
   "metadata": {},
   "outputs": [],
   "source": [
    "\n",
    "def fixed_point_root_finding(fun,x_,x_start,x_end):\n",
    "    fig,ax = plt.subplots()\n",
    "    ax.grid(True)\n",
    "    x0 = x_start\n",
    "    x1 = fun(x0)\n",
    "    error = abs(x1-x0)\n",
    "    counter = 0\n",
    "    x_buffer = [x0]\n",
    "    while error>1e-11:\n",
    "        x1 = x0-0.01*(fun(x0)-x0)\n",
    "        y0 = fun(x0)\n",
    "        y1 = fun(x1)\n",
    "        error = abs(x1-x0)\n",
    "        if counter%10==0:\n",
    "            ax.plot(np.array([x0,x0]),np.array([0,y0]),linestyle='-',color='b')\n",
    "            # arrowline(ax,[x0,x1],[y0,y0],style='to_back',arrow_size=1.5,d_frac=0.5)\n",
    "            # arrowline(ax,[x1,x1],[y0,y1],style='to_back',arrow_size=1.5,d_frac=0.5)\n",
    "            ax.scatter(np.array([x0,x1]),np.array([y0,y1]),color='r')\n",
    "        if counter%2==0:\n",
    "            x_buffer.append(x1)\n",
    "        x0 = x1\n",
    "        counter +=1 \n",
    "        if counter>1000:\n",
    "            break\n",
    "    \n",
    "    x_ = np.linspace(min(x_buffer),max(x_buffer),1000)\n",
    "    y_ = fun(x_)\n",
    "    ax.plot(x_,y_)\n",
    "    ax.plot(x_,x_)\n",
    "    return x1,fun(x1),error\n",
    "\n",
    "def fun1(x_):\n",
    "    return x_**5-7*x_**3-2*x_**2+2\n",
    "\n",
    "p,fp,error = fixed_point_root_finding(fun=fun1,x_=0,x_start=0.5,x_end=0.54)\n",
    "print(p,fp,error)\n",
    "\n",
    "\n"
   ]
  }
 ],
 "metadata": {
  "kernelspec": {
   "display_name": "Python 3",
   "language": "python",
   "name": "python3"
  },
  "language_info": {
   "codemirror_mode": {
    "name": "ipython",
    "version": 3
   },
   "file_extension": ".py",
   "mimetype": "text/x-python",
   "name": "python",
   "nbconvert_exporter": "python",
   "pygments_lexer": "ipython3",
   "version": "3.8.10"
  },
  "orig_nbformat": 4
 },
 "nbformat": 4,
 "nbformat_minor": 2
}
