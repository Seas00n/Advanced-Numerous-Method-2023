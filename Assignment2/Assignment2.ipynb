{
 "cells": [
  {
   "attachments": {},
   "cell_type": "markdown",
   "metadata": {},
   "source": [
    "# Assignment2\n",
    "## Q1\n",
    "(a) By using theorem 1.1, cos(x) is continuous at $x_0=2$ and $\\lim_{x\\rightarrow \\infty} x_n=2$\n",
    "$$\n",
    "\\lim_{x\\rightarrow \\infty}cos(x_n) = f(L) = cos(2) \n",
    "$$\n",
    "(b) $ln(x_n^2)$ is continuous at $x_0=2$\n",
    "$$\n",
    "\\lim_{x\\rightarrow \\infty}ln(x_n^2)=f(L)=2ln2\n",
    "$$\n",
    "\n",
    "## Q2\n",
    "Rolle's Theorem states that if $f'(x)$ exists for all $x \\in (a,b)$. If $f(a)=f(b)=0$ then there exists a number $c \\in (a,b)$such that $f'(c)=0$\n",
    "(a)\n",
    "$$\n",
    "f(x) = 2x^2(x^2-4)\n",
    "$$\n",
    "there exists $c_1 \\in (-2,0),c_2 \\in (0,2)$ that $f'(c)=0$\n",
    "(b)\n",
    "$$\n",
    "f(x)=(2cos(x)-1)(cos(x)+1)\n",
    "$$\n",
    "there exists $c_1 \\in (\\pi/3,\\pi),c_2 \\in (\\pi,5\\pi/3)$"
   ]
  },
  {
   "attachments": {},
   "cell_type": "markdown",
   "metadata": {},
   "source": [
    "## Q3\n",
    "(10101)b = 21\n",
    "\n",
    "(111000)b = 56\n",
    "\n",
    "(1111110)b = 126\n",
    "\n",
    "(1000000111)b = 519"
   ]
  },
  {
   "attachments": {},
   "cell_type": "markdown",
   "metadata": {},
   "source": [
    "## Q4"
   ]
  },
  {
   "cell_type": "code",
   "execution_count": 107,
   "metadata": {},
   "outputs": [
    {
     "name": "stdout",
     "output_type": "stream",
     "text": [
      "0 0.0011 [0.2, 0.4, 0.8, 0.6000000000000001, 0.20000000000000018] [0, 0, 1, 1, 0]\n",
      "0 0.101 [0.6666666666666666, 0.33333333333333326, 0.6666666666666665] [1, 0, 1]\n",
      "0 0.01 [0.2857142857142857, 0.5714285714285714, 0.1428571428571428, 0.2857142857142856] [0, 1, 0, 0]\n"
     ]
    }
   ],
   "source": [
    "def binaryFractions(num):\n",
    "    F_list = []\n",
    "    d_list = []\n",
    "    F = num\n",
    "    idx_repeated = 0\n",
    "    idx_repeated_found = False\n",
    "    while len(F_list)<100:\n",
    "        idx_repeated = 0\n",
    "        F = 2*F-int(2*F)\n",
    "        for i in range(len(F_list)):\n",
    "            if abs(F_list[i]-F)<0.00001:\n",
    "               F_list.append(F)\n",
    "               d_list.append(int(2*F))\n",
    "               idx_repeated_found = True\n",
    "               break\n",
    "            else:\n",
    "               idx_repeated+=1\n",
    "        if idx_repeated_found:\n",
    "            break\n",
    "        F_list.append(F)\n",
    "        d_list.append(int(2*F))\n",
    "    if len(F_list)==100:\n",
    "        return None \n",
    "    else:\n",
    "        num_b = 0\n",
    "        for i in range(len(d_list)):\n",
    "            num_b += d_list[i]/((10)**(i+1))\n",
    "        return idx_repeated, num_b, F_list, d_list\n",
    "\n",
    "idx_repeated, num_b, F_list, d_list = binaryFractions(1/10)\n",
    "print(idx_repeated, num_b, F_list, d_list)\n",
    "\n",
    "idx_repeated, num_b, F_list, d_list = binaryFractions(1/3)\n",
    "print(idx_repeated, num_b, F_list,d_list)\n",
    "\n",
    "idx_repeated, num_b, F_list, d_list = binaryFractions(1/7)\n",
    "print(idx_repeated, num_b, F_list,d_list)\n"
   ]
  },
  {
   "attachments": {},
   "cell_type": "markdown",
   "metadata": {},
   "source": [
    "$$\n",
    "\\begin{align}\n",
    "1/10 =& (0.0\\overline{0110})b\\\\\n",
    "1/3 = &(0.1\\overline{01})b\\\\\n",
    "1/7 =& (0.0\\overline{100})b\n",
    "\\end{align} \n",
    "$$"
   ]
  },
  {
   "attachments": {},
   "cell_type": "markdown",
   "metadata": {},
   "source": [
    "## Q5\n"
   ]
  },
  {
   "cell_type": "code",
   "execution_count": 108,
   "metadata": {},
   "outputs": [
    {
     "name": "stdout",
     "output_type": "stream",
     "text": [
      "abs_error=9.259999999988722e-05,\n",
      " rel_error=2.947549596338087e-05,\n",
      " significant_digit=6\n",
      "\n",
      "abs_error=334,\n",
      " rel_error=0.004960346927258146,\n",
      " significant_digit=4\n",
      "\n",
      "abs_error=7.999999999999998e-06,\n",
      " rel_error=0.11764705882352938,\n",
      " significant_digit=2\n",
      "\n"
     ]
    }
   ],
   "source": [
    "def calculate_error(p,p_):\n",
    "    abs_error = abs(p-p_)\n",
    "    relative_error = abs(p-p_)/abs(p)\n",
    "    significant_digit = 0\n",
    "    for d in range(100):\n",
    "        if relative_error>=10**(1-d)/2.0:\n",
    "            significant_digit = d\n",
    "            break\n",
    "    print('abs_error={},\\n rel_error={},\\n significant_digit={}\\n'.format(abs_error,relative_error,significant_digit))\n",
    "\n",
    "\n",
    "calculate_error(3.1415926,3.1415)\n",
    "calculate_error(67334, 67000)\n",
    "calculate_error(0.000068,0.00006)"
   ]
  },
  {
   "attachments": {},
   "cell_type": "markdown",
   "metadata": {},
   "source": [
    "## Q6\n",
    "(1) From the figure we can show that for large number x, true value is 0 and $1-\\frac{|y_1-0|}{|y_2-0|}<0$ that means error of $y_1$ larger than $y_2$\n",
    "$$\n",
    "y_2 = ln(1+1/x) \n",
    "$$\n",
    "(2) From the figure we can show that for large number x, true value is 0 and error of $y_1$ is smaller than that of $y_2$\n",
    "$$\n",
    "y_2 = \\frac{3.14159}{\\sqrt{x^2+3.14159}+x}\n",
    "$$\n",
    "(3) From the figure we can show that for large number x, true value is 0 and error of $y_2$ is smaller than that of $y_1$\n",
    "$$\n",
    "y_2 = cos(2x)\n",
    "$$\n",
    "(4)\n",
    "$$\n",
    "y_2=\\sqrt{\\frac{cos(x)+1}{2}}\n",
    "$$"
   ]
  },
  {
   "cell_type": "code",
   "execution_count": 43,
   "metadata": {},
   "outputs": [
    {
     "data": {
      "text/plain": [
       "[<matplotlib.lines.Line2D at 0x1966297d0a0>]"
      ]
     },
     "execution_count": 43,
     "metadata": {},
     "output_type": "execute_result"
    },
    {
     "data": {
      "image/png": "[encoded data removed]",
      "text/plain": [
       "<Figure size 640x480 with 4 Axes>"
      ]
     },
     "metadata": {},
     "output_type": "display_data"
    }
   ],
   "source": [
    "\n",
    "import numpy as np\n",
    "import matplotlib.pyplot as plt\n",
    "\n",
    "plt.subplot(411)\n",
    "x = np.linspace(10**14,10**15,100)\n",
    "y1 = np.log(x+1)+np.log(1/x)\n",
    "y2 = np.log((x+1)/x)\n",
    "plt.plot(x,1-abs(y1-0)/abs(y2-0))\n",
    "plt.subplot(412)\n",
    "x = np.linspace(10**6,10**9,100)\n",
    "y1 = np.sqrt(x**2+3.14159)-x\n",
    "y2 = 3.14159/(np.sqrt(x*x+3.14159)+x)\n",
    "plt.plot(x,1-abs(y1-0)/abs(y2-0))\n",
    "plt.subplot(413)\n",
    "x = np.linspace(np.pi/4-10**(-13),np.pi/4+10**(-13),100)\n",
    "y1 = np.cos(x)**2-0.5*(1-np.cos(2*x))\n",
    "y2 = np.cos(2*x)\n",
    "plt.plot(x,1-abs(y1-0)/abs(y2-0))\n",
    "plt.subplot(414)\n",
    "x = np.linspace(np.pi+10**(-6),np.pi+10**(-4),100)\n",
    "y1 = (0.25*(1+2*np.cos(x)+np.cos(x)**2))**(1/4)\n",
    "y2 = (0.5*(np.cos(x)+1))**(1/2)\n",
    "plt.plot(x,1-abs(y1-0)/abs(y2-0))\n",
    "\n"
   ]
  }
 ],
 "metadata": {
  "kernelspec": {
   "display_name": "Python 3",
   "language": "python",
   "name": "python3"
  },
  "language_info": {
   "codemirror_mode": {
    "name": "ipython",
    "version": 3
   },
   "file_extension": ".py",
   "mimetype": "text/x-python",
   "name": "python",
   "nbconvert_exporter": "python",
   "pygments_lexer": "ipython3",
   "version": "3.8.10"
  },
  "orig_nbformat": 4
 },
 "nbformat": 4,
 "nbformat_minor": 2
}
